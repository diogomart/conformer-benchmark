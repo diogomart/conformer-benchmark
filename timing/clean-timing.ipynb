{
 "cells": [
  {
   "cell_type": "code",
   "execution_count": 1,
   "metadata": {},
   "outputs": [],
   "source": [
    "import pandas as pd"
   ]
  },
  {
   "cell_type": "markdown",
   "metadata": {},
   "source": [
    "This notebook processes a set of \\*-time.txt files created by \"grep\"-ing through all output files.\n",
    "Since each method has slightly different output formats, we first convert the text into structured CSV."
   ]
  },
  {
   "cell_type": "code",
   "execution_count": 2,
   "metadata": {},
   "outputs": [],
   "source": [
    "# process the PM7 timing files from OpenMOPAC\n",
    "with open(\"pm7-time.csv\",\"w\") as csv:\n",
    "    print('mol,geom,seconds', file=csv)\n",
    "    with open(\"pm7-time.txt\") as data:\n",
    "        for line in data:\n",
    "            # ./CHG_jobs/astex_1gm8/rmsd1-mmff.pm7:          WALL-CLOCK TIME         =          0.055 SECONDS\n",
    "            items = line.split()\n",
    "            if len(items) != 6:\n",
    "                continue\n",
    "            mol = items[0].split('/')[2]\n",
    "            geom = items[0].split('/')[3].split('.')[0]\n",
    "            seconds = items[4]\n",
    "            print(mol, geom, seconds, sep=',', file=csv)"
   ]
  },
  {
   "cell_type": "code",
   "execution_count": 3,
   "metadata": {},
   "outputs": [],
   "source": [
    "# process the Orca timing files\n",
    "first_methods = ['b3lyp-svp', 'b3lyp-tz', 'b97-3c', 'dlpno', 'mp2', 'pbe-svp', 'pbe', 'pbeh-3c', 'wb97x']\n",
    "for method in first_methods:\n",
    "    with open(\"{}-time.csv\".format(method),'w') as csv:\n",
    "        print('mol,geom,seconds', file=csv)\n",
    "        with open(\"{}-time.txt\".format(method)) as data:\n",
    "            for line in data:\n",
    "                # astex_1gm8 rmsd112-opt.out.bz2 TOTAL RUN TIME: 0 days 0 hours 34 minutes 23 seconds 767 msec\n",
    "                items = line.split()\n",
    "                if len(items) != 15:\n",
    "                    continue\n",
    "                mol = items[0]\n",
    "                geom = items[1].split('.')[0]\n",
    "                total = (((float(items[5])*24)+float(items[7]))*60+float(items[9]))*60+float(items[11]) + float(items[13])/1000.0\n",
    "                print(mol, geom, total, sep=',', file=csv)"
   ]
  },
  {
   "cell_type": "code",
   "execution_count": 4,
   "metadata": {},
   "outputs": [],
   "source": [
    "# process the XTB output timing files\n",
    "xtb_methods = ['gfn', 'gfn2']\n",
    "for method in xtb_methods:\n",
    "    with open(\"{}-time.csv\".format(method),'w') as csv:\n",
    "        print('mol,geom,seconds', file=csv)\n",
    "        with open(\"{}-time.txt\".format(method)) as data:\n",
    "            for line in data:\n",
    "                # astex_1gm8 rmsd112-mmff.gfn cpu  time for all    1.48 s\n",
    "                items = line.split()\n",
    "                if len(items) != 8:\n",
    "                    continue\n",
    "                mol = items[0]\n",
    "                geom = items[1].split('.')[0]\n",
    "                print(mol, geom, items[6], sep=',', file=csv)"
   ]
  },
  {
   "cell_type": "code",
   "execution_count": 6,
   "metadata": {},
   "outputs": [],
   "source": [
    "# we're going to build up a big data frame by merging\n",
    "df = pd.read_csv(\"dlpno-time.csv\")\n",
    "df.columns = ['mol', 'geom', 'dlpno']\n",
    "# read the rest of them\n",
    "methods = ['b3lyp-svp', 'b3lyp-tz', 'b97-3c', 'mp2', 'pbe-svp', 'pbe', 'pbeh-3c', 'wb97x', 'gfn', 'gfn2', 'pm7']\n",
    "for method in methods:\n",
    "    df_method = pd.read_csv(\"{}-time.csv\".format(method))\n",
    "    df_method.columns = ['mol', 'geom', method]\n",
    "    df = pd.merge(df, df_method)"
   ]
  },
  {
   "cell_type": "code",
   "execution_count": 7,
   "metadata": {},
   "outputs": [
    {
     "data": {
      "text/plain": [
       "Index(['mol', 'geom', 'dlpno', 'b3lyp-svp', 'b3lyp-tz', 'b97-3c', 'mp2',\n",
       "       'pbe-svp', 'pbe', 'pbeh-3c', 'wb97x', 'gfn', 'gfn2', 'pm7'],\n",
       "      dtype='object')"
      ]
     },
     "execution_count": 7,
     "metadata": {},
     "output_type": "execute_result"
    }
   ],
   "source": [
    "df.columns"
   ]
  },
  {
   "cell_type": "code",
   "execution_count": 8,
   "metadata": {},
   "outputs": [],
   "source": [
    "# write out the merged table\n",
    "df.to_csv(\"total-timing.csv\")"
   ]
  },
  {
   "cell_type": "code",
   "execution_count": null,
   "metadata": {
    "collapsed": true
   },
   "outputs": [],
   "source": []
  },
  {
   "cell_type": "markdown",
   "metadata": {
    "collapsed": true
   },
   "source": []
  }
 ],
 "metadata": {
  "kernelspec": {
   "display_name": "Python 3",
   "language": "python",
   "name": "python3"
  },
  "language_info": {
   "codemirror_mode": {
    "name": "ipython",
    "version": 3
   },
   "file_extension": ".py",
   "mimetype": "text/x-python",
   "name": "python",
   "nbconvert_exporter": "python",
   "pygments_lexer": "ipython3",
   "version": "3.7.5"
  }
 },
 "nbformat": 4,
 "nbformat_minor": 2
}
