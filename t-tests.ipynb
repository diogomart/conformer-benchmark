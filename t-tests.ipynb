{
 "cells": [
  {
   "cell_type": "code",
   "execution_count": 1,
   "metadata": {},
   "outputs": [
    {
     "data": {
      "text/plain": [
       "{'divide': 'warn', 'over': 'warn', 'under': 'ignore', 'invalid': 'warn'}"
      ]
     },
     "execution_count": 1,
     "metadata": {},
     "output_type": "execute_result"
    }
   ],
   "source": [
    "import pandas as pd\n",
    "import numpy as np\n",
    "import matplotlib.pyplot as plt\n",
    "\n",
    "from scipy.stats import linregress\n",
    "from statistics import mean, median\n",
    "from math import isfinite\n",
    "\n",
    "# ignore 'nan' values rather than throw a Runtime warning\n",
    "np.seterr(divide='ignore', invalid='ignore')"
   ]
  },
  {
   "cell_type": "code",
   "execution_count": 2,
   "metadata": {},
   "outputs": [],
   "source": [
    "ani1 = pd.read_csv('stats/dlpno_ani1x_stats.csv')\n",
    "ani1d3 = pd.read_csv('stats/dlpno_ani1x-d3_stats.csv')\n",
    "ani1d4 = pd.read_csv('stats/dlpno_ani1x-d4_stats.csv')"
   ]
  },
  {
   "cell_type": "code",
   "execution_count": 3,
   "metadata": {},
   "outputs": [
    {
     "data": {
      "text/plain": [
       "Index(['name', ' len_ani1', ' mare_ani1', ' rsq_ani1', ' spearman_ani1',\n",
       "       ' slope_ani1', ' intercept_ani1', ' len_ani1d3', ' mare_ani1d3',\n",
       "       ' rsq_ani1d3', ' spearman_ani1d3', ' slope_ani1d3',\n",
       "       ' intercept_ani1d3'],\n",
       "      dtype='object')"
      ]
     },
     "execution_count": 3,
     "metadata": {},
     "output_type": "execute_result"
    }
   ],
   "source": [
    "merge = pd.merge(ani1, ani1d3, on='name', how='inner', suffixes=('_ani1', '_ani1d3'))\n",
    "merge.columns"
   ]
  },
  {
   "cell_type": "code",
   "execution_count": 4,
   "metadata": {},
   "outputs": [],
   "source": [
    "rsq_ani1 = merge[' rsq_ani1']\n",
    "rsq_ani1d3 = merge[' rsq_ani1d3']"
   ]
  },
  {
   "cell_type": "code",
   "execution_count": 5,
   "metadata": {},
   "outputs": [
    {
     "data": {
      "text/plain": [
       "Ttest_indResult(statistic=-1.0756610338431338, pvalue=0.2824972796729829)"
      ]
     },
     "execution_count": 5,
     "metadata": {},
     "output_type": "execute_result"
    }
   ],
   "source": [
    "from scipy.stats import ttest_ind\n",
    "ttest_ind(rsq_ani1, rsq_ani1d3)"
   ]
  },
  {
   "cell_type": "code",
   "execution_count": 6,
   "metadata": {},
   "outputs": [
    {
     "data": {
      "text/plain": [
       "Index(['name', ' len_ani1', ' mare_ani1', ' rsq_ani1', ' spearman_ani1',\n",
       "       ' slope_ani1', ' intercept_ani1', ' len_ani1d4', ' mare_ani1d4',\n",
       "       ' rsq_ani1d4', ' spearman_ani1d4', ' slope_ani1d4',\n",
       "       ' intercept_ani1d4'],\n",
       "      dtype='object')"
      ]
     },
     "execution_count": 6,
     "metadata": {},
     "output_type": "execute_result"
    }
   ],
   "source": [
    "merge = pd.merge(ani1, ani1d4, on='name', how='inner', suffixes=('_ani1', '_ani1d4'))\n",
    "merge.columns"
   ]
  },
  {
   "cell_type": "code",
   "execution_count": 7,
   "metadata": {},
   "outputs": [
    {
     "data": {
      "text/plain": [
       "Ttest_indResult(statistic=0.47623265872798365, pvalue=0.6340753341813952)"
      ]
     },
     "execution_count": 7,
     "metadata": {},
     "output_type": "execute_result"
    }
   ],
   "source": [
    "rsq_ani1 = merge[' rsq_ani1']\n",
    "rsq_ani1d4 = merge[' rsq_ani1d4']\n",
    "ttest_ind(rsq_ani1, rsq_ani1d4)"
   ]
  },
  {
   "cell_type": "code",
   "execution_count": null,
   "metadata": {},
   "outputs": [],
   "source": [
    "# done with ANI-1x comparisons, now ANI-2x"
   ]
  },
  {
   "cell_type": "code",
   "execution_count": 8,
   "metadata": {},
   "outputs": [],
   "source": [
    "ani2 = pd.read_csv('stats/dlpno_ani2_stats.csv')\n",
    "ani2d3 = pd.read_csv('stats/dlpno_ani2-d3_stats.csv')\n",
    "ani2d4 = pd.read_csv('stats/dlpno_ani2-d4_stats.csv')"
   ]
  },
  {
   "cell_type": "code",
   "execution_count": 9,
   "metadata": {},
   "outputs": [
    {
     "data": {
      "text/plain": [
       "Index(['name', ' len_ani2', ' mare_ani2', ' rsq_ani2', ' spearman_ani2',\n",
       "       ' slope_ani2', ' intercept_ani2', ' len_ani2d3', ' mare_ani2d3',\n",
       "       ' rsq_ani2d3', ' spearman_ani2d3', ' slope_ani2d3',\n",
       "       ' intercept_ani2d3'],\n",
       "      dtype='object')"
      ]
     },
     "execution_count": 9,
     "metadata": {},
     "output_type": "execute_result"
    }
   ],
   "source": [
    "merge = pd.merge(ani2, ani2d3, on='name', how='inner', suffixes=('_ani2', '_ani2d3'))\n",
    "merge.columns"
   ]
  },
  {
   "cell_type": "code",
   "execution_count": 10,
   "metadata": {},
   "outputs": [],
   "source": [
    "rsq_ani2 = merge[' rsq_ani2']\n",
    "rsq_ani2d3 = merge[' rsq_ani2d3']"
   ]
  },
  {
   "cell_type": "code",
   "execution_count": 11,
   "metadata": {},
   "outputs": [
    {
     "data": {
      "text/plain": [
       "Ttest_indResult(statistic=-1.0988491414875203, pvalue=0.2720434602694684)"
      ]
     },
     "execution_count": 11,
     "metadata": {},
     "output_type": "execute_result"
    }
   ],
   "source": [
    "ttest_ind(rsq_ani2, rsq_ani2d3)"
   ]
  },
  {
   "cell_type": "code",
   "execution_count": 12,
   "metadata": {},
   "outputs": [
    {
     "data": {
      "text/plain": [
       "Ttest_indResult(statistic=1.0055982051392032, pvalue=0.3148007436083561)"
      ]
     },
     "execution_count": 12,
     "metadata": {},
     "output_type": "execute_result"
    }
   ],
   "source": [
    "merge = pd.merge(ani2, ani2d4, on='name', how='inner', suffixes=('_ani2', '_ani2d4'))\n",
    "rsq_ani2 = merge[' rsq_ani2']\n",
    "rsq_ani2d4 = merge[' rsq_ani2d4']\n",
    "ttest_ind(rsq_ani2, rsq_ani2d4)"
   ]
  },
  {
   "cell_type": "code",
   "execution_count": 13,
   "metadata": {},
   "outputs": [],
   "source": [
    "# okay, done with ANI, now basis set effects"
   ]
  },
  {
   "cell_type": "code",
   "execution_count": 14,
   "metadata": {},
   "outputs": [
    {
     "data": {
      "text/plain": [
       "Ttest_indResult(statistic=-4.381775053623307, pvalue=1.2659835403229123e-05)"
      ]
     },
     "execution_count": 14,
     "metadata": {},
     "output_type": "execute_result"
    }
   ],
   "source": [
    "dz = pd.read_csv('stats/dlpno_b3lypSVP_stats.csv')\n",
    "tz = pd.read_csv('stats/dlpno_b3lypTZ_stats.csv')\n",
    "merge = pd.merge(dz, tz, on='name', how='inner', suffixes=('_dz', '_tz'))\n",
    "rsq_dz = merge[' rsq_dz']\n",
    "rsq_tz = merge[' rsq_tz']\n",
    "ttest_ind(rsq_dz, rsq_tz)"
   ]
  },
  {
   "cell_type": "code",
   "execution_count": 15,
   "metadata": {},
   "outputs": [
    {
     "data": {
      "text/plain": [
       "Ttest_indResult(statistic=-3.369143314171442, pvalue=0.0007747579342006318)"
      ]
     },
     "execution_count": 15,
     "metadata": {},
     "output_type": "execute_result"
    }
   ],
   "source": [
    "dz = pd.read_csv('stats/dlpno_pbeSVP_stats.csv')\n",
    "tz = pd.read_csv('stats/dlpno_pbe_stats.csv')\n",
    "merge = pd.merge(dz, tz, on='name', how='inner', suffixes=('_dz', '_tz'))\n",
    "rsq_dz = merge[' rsq_dz']\n",
    "rsq_tz = merge[' rsq_tz']\n",
    "ttest_ind(rsq_dz, rsq_tz)"
   ]
  },
  {
   "cell_type": "code",
   "execution_count": 16,
   "metadata": {},
   "outputs": [
    {
     "data": {
      "text/plain": [
       "Ttest_indResult(statistic=14.285842940639718, pvalue=2.7302998842209526e-43)"
      ]
     },
     "execution_count": 16,
     "metadata": {},
     "output_type": "execute_result"
    }
   ],
   "source": [
    "d = pd.read_csv('stats/dlpno_b3lypTZ_stats.csv')\n",
    "nod = pd.read_csv('stats/dlpno_b3lypTZ-nod_stats.csv')\n",
    "merge = pd.merge(d, nod, on='name', how='inner', suffixes=('_d', '_nod'))\n",
    "rsq_d = merge[' rsq_d']\n",
    "rsq_nod = merge[' rsq_nod']\n",
    "ttest_ind(rsq_d, rsq_nod)"
   ]
  },
  {
   "cell_type": "code",
   "execution_count": null,
   "metadata": {},
   "outputs": [],
   "source": []
  }
 ],
 "metadata": {
  "kernelspec": {
   "display_name": "Python 3",
   "language": "python",
   "name": "python3"
  },
  "language_info": {
   "codemirror_mode": {
    "name": "ipython",
    "version": 3
   },
   "file_extension": ".py",
   "mimetype": "text/x-python",
   "name": "python",
   "nbconvert_exporter": "python",
   "pygments_lexer": "ipython3",
   "version": "3.6.10"
  }
 },
 "nbformat": 4,
 "nbformat_minor": 4
}
