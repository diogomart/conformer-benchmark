{
 "cells": [
  {
   "cell_type": "code",
   "execution_count": 1,
   "metadata": {
    "scrolled": true
   },
   "outputs": [
    {
     "data": {
      "text/plain": [
       "{'divide': 'warn', 'over': 'warn', 'under': 'ignore', 'invalid': 'warn'}"
      ]
     },
     "execution_count": 1,
     "metadata": {},
     "output_type": "execute_result"
    }
   ],
   "source": [
    "import pandas as pd\n",
    "import numpy as np\n",
    "import matplotlib.pyplot as plt\n",
    "\n",
    "from scipy.stats import linregress\n",
    "from statistics import mean, median\n",
    "from math import isfinite\n",
    "\n",
    "# ignore 'nan' values rather than throw a Runtime warning\n",
    "np.seterr(divide='ignore', invalid='ignore')"
   ]
  },
  {
   "cell_type": "code",
   "execution_count": 3,
   "metadata": {},
   "outputs": [],
   "source": [
    "df = pd.read_csv('data-final.csv')\n",
    "# 28k single points across ~700 molecules and a lot of methods"
   ]
  },
  {
   "cell_type": "code",
   "execution_count": 4,
   "metadata": {},
   "outputs": [
    {
     "data": {
      "text/plain": [
       "Index(['name', 'geom', 'natoms', 'dlpno', 'mp2', 'wb97', 'b973c', 'pbe',\n",
       "       'pbeSVP', 'pbeh3c', 'b3lypTZ', 'b3lypSVP', 'gfn0', 'gfn1', 'gfn2',\n",
       "       'pm7E', 'pm7HOF', 'mmff', 'uff', 'gaff', 'ani1x', 'ani1cc', 'ani2'],\n",
       "      dtype='object')"
      ]
     },
     "execution_count": 4,
     "metadata": {},
     "output_type": "execute_result"
    }
   ],
   "source": [
    "df.columns"
   ]
  },
  {
   "cell_type": "code",
   "execution_count": 5,
   "metadata": {},
   "outputs": [
    {
     "data": {
      "text/plain": [
       "name         object\n",
       "geom         object\n",
       "natoms        int64\n",
       "dlpno       float64\n",
       "mp2         float64\n",
       "wb97        float64\n",
       "b973c       float64\n",
       "pbe         float64\n",
       "pbeSVP      float64\n",
       "pbeh3c      float64\n",
       "b3lypTZ     float64\n",
       "b3lypSVP    float64\n",
       "gfn0        float64\n",
       "gfn1        float64\n",
       "gfn2        float64\n",
       "pm7E        float64\n",
       "pm7HOF      float64\n",
       "mmff        float64\n",
       "uff         float64\n",
       "gaff        float64\n",
       "ani1x       float64\n",
       "ani1cc      float64\n",
       "ani2        float64\n",
       "dtype: object"
      ]
     },
     "execution_count": 5,
     "metadata": {},
     "output_type": "execute_result"
    }
   ],
   "source": [
    "df.dtypes # make sure the numbers are all float64"
   ]
  },
  {
   "cell_type": "code",
   "execution_count": 8,
   "metadata": {},
   "outputs": [],
   "source": [
    "# this list allows you to pick only a subset for analysis\n",
    "methods = ['dlpno', 'mmff', 'uff', 'gaff', 'pm7HOF', 'ani1x', 'ani1cc', 'ani2', 'gfn0', 'gfn1', 'gfn2', 'pbe', 'pbeSVP', 'pbeh3c', 'b3lypTZ', 'b3lypSVP', 'wb97', 'mp2']"
   ]
  },
  {
   "cell_type": "code",
   "execution_count": 7,
   "metadata": {},
   "outputs": [
    {
     "name": "stdout",
     "output_type": "stream",
     "text": [
      "['astex_1g9v' 'astex_1gkc' 'astex_1gm8' 'astex_1hnn' 'astex_1hp0'\n",
      " 'astex_1hq2' 'astex_1hvy' 'astex_1hwi' 'astex_1ia1' 'astex_1ig3'\n",
      " 'astex_1j3j' 'astex_1jd0' 'astex_1jje' 'astex_1jla' 'astex_1k3u'\n",
      " 'astex_1ke5' 'astex_1kzk' 'astex_1l2s' 'astex_1l7f' 'astex_1lpz'\n",
      " 'astex_1lrh' 'astex_1m2z' 'astex_1meh' 'astex_1mmv' 'astex_1mzc'\n",
      " 'astex_1n1m' 'astex_1n2j' 'astex_1n2v' 'astex_1n46' 'astex_1nav'\n",
      " 'astex_1of1' 'astex_1of6' 'astex_1opk' 'astex_1oq5' 'astex_1owe'\n",
      " 'astex_1oyt' 'astex_1p2y' 'astex_1p62' 'astex_1pmn' 'astex_1q1g'\n",
      " 'astex_1q41' 'astex_1q4g' 'astex_1r1h' 'astex_1r55' 'astex_1r58'\n",
      " 'astex_1r9o' 'astex_1s3v' 'astex_1sg0' 'astex_1sj0' 'astex_1sq5'\n",
      " 'astex_1t40' 'astex_1t46' 'astex_1t9b' 'astex_1tow' 'astex_1tt1'\n",
      " 'astex_1tz8' 'astex_1u1c' 'astex_1u4d' 'astex_1uml' 'astex_1unl'\n",
      " 'astex_1uou' 'astex_1v0p' 'astex_1v48' 'astex_1v4s' 'astex_1vcj'\n",
      " 'astex_1w1p' 'astex_1w2g' 'astex_1xm6' 'astex_1xoq' 'astex_1xoz'\n",
      " 'astex_1y6b' 'astex_1ygc' 'astex_1yqy' 'astex_1yvf' 'astex_1ywr'\n",
      " 'astex_1z95' 'astex_2bm2' 'astex_2br1' 'astex_2bsm' 'omegacsd_ABHYTZ'\n",
      " 'omegacsd_ABIMAZ' 'omegacsd_ABSBPP' 'omegacsd_ABVPRO' 'omegacsd_ABXBPC'\n",
      " 'omegacsd_ABZNPS' 'omegacsd_ACENHT' 'omegacsd_ACPIXZ' 'omegacsd_ACTHBZ'\n",
      " 'omegacsd_ADPRTR' 'omegacsd_AMOCMS10' 'omegacsd_AMPDAM' 'omegacsd_ANOPPS'\n",
      " 'omegacsd_ANTZOA' 'omegacsd_ANTZOB' 'omegacsd_AOPCHY' 'omegacsd_APRTAM'\n",
      " 'omegacsd_AURMIN' 'omegacsd_AZLNPR' 'omegacsd_BAFJEX10' 'omegacsd_BAFREF'\n",
      " 'omegacsd_BAFYOW' 'omegacsd_BAJZOB10' 'omegacsd_BATROD' 'omegacsd_BATXID'\n",
      " 'omegacsd_BAXOZO' 'omegacsd_BBSPRT10' 'omegacsd_BEDLUR'\n",
      " 'omegacsd_BEHHOL10' 'omegacsd_BEKDIE' 'omegacsd_BELWOE' 'omegacsd_BENPRL'\n",
      " 'omegacsd_BESCEH' 'omegacsd_BETFAH' 'omegacsd_BEWLIY10'\n",
      " 'omegacsd_BEWLOE10' 'omegacsd_BEXVOP' 'omegacsd_BHMPET' 'omegacsd_BIBHID'\n",
      " 'omegacsd_BIBSEK' 'omegacsd_BSBTHP' 'omegacsd_BTHYDX' 'omegacsd_BUDCUY'\n",
      " 'omegacsd_BUFXOP' 'omegacsd_BUHNIB' 'omegacsd_BUNFUL' 'omegacsd_BUSNIM'\n",
      " 'omegacsd_BUTDID' 'omegacsd_BUVYIA' 'omegacsd_BUYZIE' 'omegacsd_BZAPCX10'\n",
      " 'omegacsd_BZAPUC20' 'omegacsd_CABCUD' 'omegacsd_CAFGIZ' 'omegacsd_CAGXEN'\n",
      " 'omegacsd_CALLEG' 'omegacsd_CANPUC' 'omegacsd_CARNID' 'omegacsd_CATXIE'\n",
      " 'omegacsd_CAVNUI' 'omegacsd_CBMHZP' 'omegacsd_CBSTHP' 'omegacsd_CBZHYX'\n",
      " 'omegacsd_CDBMPI10' 'omegacsd_CEJTIU' 'omegacsd_CEKNOV' 'omegacsd_CELDEC'\n",
      " 'omegacsd_CELXOG' 'omegacsd_CENNIS' 'omegacsd_CETZOQ' 'omegacsd_CEVTUS'\n",
      " 'omegacsd_CEWFUF' 'omegacsd_CFBPBI' 'omegacsd_CIBPEI' 'omegacsd_CIBPOS'\n",
      " 'omegacsd_CIDSIR' 'omegacsd_CIHFAA' 'omegacsd_CIHJAE' 'omegacsd_CIJFEG'\n",
      " 'omegacsd_CIJVAS' 'omegacsd_CIPXEE' 'omegacsd_CIXFIY' 'omegacsd_CIXTOS'\n",
      " 'omegacsd_CLPHAC' 'omegacsd_CLPNXA' 'omegacsd_CLPSAM' 'omegacsd_CLPTBU'\n",
      " 'omegacsd_CMANPQ' 'omegacsd_CMAPTX' 'omegacsd_CMPEPI' 'omegacsd_CMSMOC'\n",
      " 'omegacsd_CMXPMB' 'omegacsd_CMXPYO' 'omegacsd_CNBPCT' 'omegacsd_CNINDO'\n",
      " 'omegacsd_COCHOL' 'omegacsd_CODYUP10' 'omegacsd_COFHIO10'\n",
      " 'omegacsd_COKBOT' 'omegacsd_COKSUQ' 'omegacsd_COKTAX' 'omegacsd_COTXUE'\n",
      " 'omegacsd_COVXIU' 'omegacsd_COYHUT10' 'omegacsd_COYPIP' 'omegacsd_COYTOZ'\n",
      " 'omegacsd_COYVIV' 'omegacsd_COZFOM' 'omegacsd_CPIPLA' 'omegacsd_CPPHAM'\n",
      " 'omegacsd_CPQZOL' 'omegacsd_CPYPTZ' 'omegacsd_CUHNEY10' 'omegacsd_CUJSAB'\n",
      " 'omegacsd_CUNTIO' 'omegacsd_CUSLUX' 'omegacsd_CUWRIV' 'omegacsd_CYCLIZ10'\n",
      " 'omegacsd_DABGUI' 'omegacsd_DADDUH' 'omegacsd_DAFTOT' 'omegacsd_DAFVUB'\n",
      " 'omegacsd_DAHNIJ' 'omegacsd_DAKGEB' 'omegacsd_DANNEL' 'omegacsd_DAWRAU'\n",
      " 'omegacsd_DAXKAO' 'omegacsd_DCLPET' 'omegacsd_DCTXAN' 'omegacsd_DEBBER'\n",
      " 'omegacsd_DEBBOB' 'omegacsd_DEBFAR' 'omegacsd_DECZIU' 'omegacsd_DENBUT'\n",
      " 'omegacsd_DENDAC' 'omegacsd_DERZAB' 'omegacsd_DIAVER' 'omegacsd_DIGSIV'\n",
      " 'omegacsd_DIPJAN10' 'omegacsd_DISHOC' 'omegacsd_DIWPUU' 'omegacsd_DIWWUB'\n",
      " 'omegacsd_DIZREJ' 'omegacsd_DIZWAK' 'omegacsd_DOHREX' 'omegacsd_DOLJIX'\n",
      " 'omegacsd_DOPXIP' 'omegacsd_DOTFEX' 'omegacsd_DOXANN' 'omegacsd_DUDNUL'\n",
      " 'omegacsd_DUDPAT' 'omegacsd_DUHSUU' 'omegacsd_DUMTAG' 'omegacsd_DUPKII'\n",
      " 'omegacsd_DUXYOK' 'omegacsd_DUZDAD' 'omegacsd_DUZRAR' 'omegacsd_EBTNIC'\n",
      " 'omegacsd_ECBHMP' 'omegacsd_EHMPYX10' 'omegacsd_EITDZL' 'omegacsd_EMZPPO'\n",
      " 'omegacsd_EPCMPO' 'omegacsd_EXOADN' 'omegacsd_FABSOQ10'\n",
      " 'omegacsd_FABWUA10' 'omegacsd_FACCER10' 'omegacsd_FAGHIE'\n",
      " 'omegacsd_FAHTUD' 'omegacsd_FAHXIV' 'omegacsd_FAJVAN' 'omegacsd_FANPUF'\n",
      " 'omegacsd_FANRER' 'omegacsd_FAVYEG' 'omegacsd_FAWREA' 'omegacsd_FAXPUP'\n",
      " 'omegacsd_FBPAZD' 'omegacsd_FECPUY' 'omegacsd_FEFPOV' 'omegacsd_FEKYEZ'\n",
      " 'omegacsd_FEMMAL' 'omegacsd_FEVZUB' 'omegacsd_FEWBAK' 'omegacsd_FEYJEY'\n",
      " 'omegacsd_FEYKUP' 'omegacsd_FHFPBY' 'omegacsd_FIBREN' 'omegacsd_FIJJUD'\n",
      " 'omegacsd_FIVPUV' 'omegacsd_FIWLUS' 'omegacsd_FIXNUV' 'omegacsd_FLPNTX10'\n",
      " 'omegacsd_FOBZIF' 'omegacsd_FOGWAZ' 'omegacsd_FOJZUZ' 'omegacsd_FOLMEY'\n",
      " 'omegacsd_FOLYIO' 'omegacsd_FOMDUG' 'omegacsd_FOPMIG' 'omegacsd_FOWPOW'\n",
      " 'omegacsd_FOYLIO' 'omegacsd_FPAMCA' 'omegacsd_FUCFIS' 'omegacsd_FUDVUV'\n",
      " 'omegacsd_FUGSIJ' 'omegacsd_FUHHAR' 'omegacsd_FUHLID' 'omegacsd_FUJRUX'\n",
      " 'omegacsd_FUMBOE' 'omegacsd_FUNXUH' 'omegacsd_FUNYAO' 'omegacsd_FUPFIF'\n",
      " 'omegacsd_FURACM' 'omegacsd_FURKEI' 'omegacsd_FURSEM01' 'omegacsd_FUSZOI'\n",
      " 'omegacsd_GAKWIY' 'omegacsd_GALMOV' 'omegacsd_GALSEM' 'omegacsd_GANFIK'\n",
      " 'omegacsd_GASPUL' 'omegacsd_GASXED' 'omegacsd_GATPOG' 'omegacsd_GAVMIZ'\n",
      " 'omegacsd_GEBJOM' 'omegacsd_GEHKIN' 'omegacsd_GEJJUA' 'omegacsd_GEJLAI'\n",
      " 'omegacsd_GEKWAU' 'omegacsd_GIFZAW' 'omegacsd_GIHKAJ' 'omegacsd_GIHTUM'\n",
      " 'omegacsd_GIHWUP' 'omegacsd_GIKJOZ' 'omegacsd_GINKUJ' 'omegacsd_HADLAZ'\n",
      " 'omegacsd_HALDOL' 'omegacsd_HALJOT' 'omegacsd_HALOPE' 'omegacsd_HALSES'\n",
      " 'omegacsd_HASCOT' 'omegacsd_HATKES' 'omegacsd_HAVJET' 'omegacsd_HAVLUL'\n",
      " 'omegacsd_HAVRUR' 'omegacsd_HBFRAN' 'omegacsd_HECHEC' 'omegacsd_HEHVOF'\n",
      " 'omegacsd_HEJTAR' 'omegacsd_HEKROE' 'omegacsd_HEKZAY' 'omegacsd_HEMLOA'\n",
      " 'omegacsd_HEMWUR' 'omegacsd_HEMXIG' 'omegacsd_HEPGAK' 'omegacsd_HEPKUI'\n",
      " 'omegacsd_HEPYAC' 'omegacsd_HEVJAT' 'omegacsd_HEVRIJ' 'omegacsd_HEVXEL'\n",
      " 'omegacsd_HEXFEV' 'omegacsd_HEXYIS' 'omegacsd_JOTDAX' 'omegacsd_JOXFIL'\n",
      " 'omegacsd_JUBGES' 'omegacsd_JUBJOF' 'omegacsd_JUDLUP' 'omegacsd_JUDWEK'\n",
      " 'omegacsd_JUHHEZ' 'omegacsd_JUKZUK' 'omegacsd_JUVPAR' 'omegacsd_KABJOM'\n",
      " 'omegacsd_KACKII' 'omegacsd_KAVLIC' 'omegacsd_KAVNOK' 'omegacsd_KAXXAI'\n",
      " 'omegacsd_KEBVES' 'omegacsd_KECDUR' 'omegacsd_KEJBEG' 'omegacsd_KEJGEL'\n",
      " 'omegacsd_KEMHOZ' 'omegacsd_KICRIX' 'omegacsd_KIFZAA' 'omegacsd_KIHWAZ'\n",
      " 'omegacsd_KIHWED' 'omegacsd_KINJIA' 'omegacsd_KIXLOS' 'omegacsd_KOFKUL'\n",
      " 'omegacsd_KOFLIA' 'omegacsd_KOFLOG' 'omegacsd_KOFMIB' 'omegacsd_KOJMEB'\n",
      " 'omegacsd_KOKBIV' 'omegacsd_KOTGIJ' 'omegacsd_KUBHEU' 'omegacsd_KUFPIK'\n",
      " 'omegacsd_KUHNUW' 'omegacsd_LABLOP' 'omegacsd_LACCEX' 'omegacsd_LACPAG'\n",
      " 'omegacsd_LADTOZ' 'omegacsd_LANXED' 'omegacsd_LAWJEY' 'omegacsd_LAXWEM'\n",
      " 'omegacsd_LEDWAS' 'omegacsd_LEKMET' 'omegacsd_LELROJ' 'omegacsd_LEMXIK'\n",
      " 'omegacsd_LERKAU' 'omegacsd_LETBAN' 'omegacsd_LETBUH' 'omegacsd_LEVTOV'\n",
      " 'omegacsd_LEZGOM' 'omegacsd_LIKBUC' 'omegacsd_LIKGIV' 'omegacsd_LIKMEX'\n",
      " 'omegacsd_LINLAV' 'omegacsd_MAMNAQ' 'omegacsd_MATSTA10'\n",
      " 'omegacsd_MBZTZT10' 'omegacsd_MICONZ' 'omegacsd_MINTSA'\n",
      " 'omegacsd_MLDPHE10' 'omegacsd_MOPBZA' 'omegacsd_MRMPYR' 'omegacsd_MTBPNP'\n",
      " 'omegacsd_MVERIQ' 'omegacsd_NADYIA' 'omegacsd_NADZIB' 'omegacsd_NBPENC'\n",
      " 'omegacsd_NFCSEY' 'omegacsd_PACVUK' 'omegacsd_PAPPHI' 'omegacsd_PBBSHD'\n",
      " 'omegacsd_PBYXCH' 'omegacsd_PCPTZA' 'omegacsd_PEBHAF' 'omegacsd_PEKCEO'\n",
      " 'omegacsd_PEPHEX' 'omegacsd_PEXFED' 'omegacsd_PEXJEH' 'omegacsd_PIBSXM'\n",
      " 'omegacsd_PIDSIE' 'omegacsd_PIDWOO' 'omegacsd_PIKDIW' 'omegacsd_PILCOC'\n",
      " 'omegacsd_PINSAG' 'omegacsd_PKOJSI' 'omegacsd_PMAANO01' 'omegacsd_PMANAQ'\n",
      " 'omegacsd_PMBSAN10' 'omegacsd_PMCPRC10' 'omegacsd_PMEPEN'\n",
      " 'omegacsd_PMPAIN' 'omegacsd_PMPBTZ' 'omegacsd_PMTSZD' 'omegacsd_PNBPIP'\n",
      " 'omegacsd_PNPAUR' 'omegacsd_PONXUL' 'omegacsd_PTHPAL' 'omegacsd_PXBVCP10'\n",
      " 'omegacsd_PXEZSD' 'omegacsd_PXMPEN' 'omegacsd_PYMSBZ' 'omegacsd_QQQHDG10'\n",
      " 'omegacsd_SADXIE' 'omegacsd_SAGMUI' 'omegacsd_SAGWOM' 'omegacsd_SAVXOC'\n",
      " 'omegacsd_SAVYET' 'omegacsd_SAVZEU' 'omegacsd_SAWZUL' 'omegacsd_SEFLIY'\n",
      " 'omegacsd_SEMDET' 'omegacsd_SEMXEN' 'omegacsd_SEYMIS' 'omegacsd_SEYPUH'\n",
      " 'omegacsd_SFDMOX' 'omegacsd_SIFJIA' 'omegacsd_SIHDES' 'omegacsd_SIHDIW'\n",
      " 'omegacsd_SIHGIZ' 'omegacsd_SIHVUA' 'omegacsd_SILTUC' 'omegacsd_SINKUV'\n",
      " 'omegacsd_SISYIC' 'omegacsd_SIZDOU' 'omegacsd_SLFNMB04'\n",
      " 'omegacsd_SLFNMF02' 'omegacsd_SOPNAM' 'omegacsd_SOPSIZ' 'omegacsd_SORCOR'\n",
      " 'omegacsd_SOWCOW' 'omegacsd_SPIRIL' 'omegacsd_SUKPET' 'omegacsd_SURREC'\n",
      " 'omegacsd_TAJSEC' 'omegacsd_TANNOL' 'omegacsd_TAPBZO' 'omegacsd_TAPSOS'\n",
      " 'omegacsd_TAPZEP' 'omegacsd_TAZPUF' 'omegacsd_TAZXAT' 'omegacsd_TECSUP'\n",
      " 'omegacsd_TEDBUZ' 'omegacsd_TEKBIU' 'omegacsd_TPHPRO' 'omegacsd_VADTAV'\n",
      " 'omegacsd_VAMBOA' 'omegacsd_VAMCUH' 'omegacsd_VAYXOI' 'omegacsd_VEMCIZ'\n",
      " 'omegacsd_VENRUB' 'omegacsd_VEXROF' 'omegacsd_VEYRAS' 'omegacsd_VIBNID'\n",
      " 'omegacsd_VIBWIM' 'omegacsd_VIMYUL' 'omegacsd_VIPHOR' 'omegacsd_VOPDIN'\n",
      " 'omegacsd_VORBAF' 'omegacsd_VORDAH' 'omegacsd_VORJER' 'omegacsd_VOWXEK'\n",
      " 'omegacsd_VOXHAR' 'omegacsd_VOXMOK' 'omegacsd_VOXNOL' 'omegacsd_VUGDEG'\n",
      " 'omegacsd_VURTOR' 'omegacsd_VUSKID' 'omegacsd_WAMZAL' 'omegacsd_WASTEP'\n",
      " 'omegacsd_WAVTIW' 'omegacsd_WEBCOV' 'omegacsd_WELGAV' 'omegacsd_WESFOP'\n",
      " 'omegacsd_WESZOJ' 'omegacsd_WEVTIA' 'omegacsd_WEXBEG' 'omegacsd_WIDDIW'\n",
      " 'omegacsd_WIFREI' 'omegacsd_WIKJOP' 'omegacsd_YABKOB' 'omegacsd_YAGWOS'\n",
      " 'omegacsd_YAHBOY' 'omegacsd_YAHFAO' 'omegacsd_YAYDEH' 'omegacsd_YAZBAC'\n",
      " 'omegacsd_YAZHUC' 'omegacsd_YEMNEJ' 'omegacsd_YENLEI' 'omegacsd_YESPIV'\n",
      " 'omegacsd_YEYVED' 'omegacsd_YICPIJ' 'omegacsd_YIHJAA' 'omegacsd_YILDOM'\n",
      " 'omegacsd_YINDII' 'omegacsd_YITLES' 'omegacsd_YOPRAW' 'omegacsd_YOPWOP'\n",
      " 'omegacsd_YOSMOI' 'omegacsd_YOWVOV' 'omegacsd_YOWYAK' 'omegacsd_YOXDEU'\n",
      " 'omegacsd_YUKKUK' 'omegacsd_YUKNAT' 'omegacsd_YULXIM' 'omegacsd_YULZOU'\n",
      " 'omegacsd_YUYJEH' 'omegapdb_1b6l' 'omegapdb_1bhx' 'omegapdb_1bto'\n",
      " 'omegapdb_1c1u' 'omegapdb_1d09' 'omegapdb_1d3g' 'omegapdb_1d3h'\n",
      " 'omegapdb_1d4i' 'omegapdb_1d4l' 'omegapdb_1d8d' 'omegapdb_1dfo'\n",
      " 'omegapdb_1e2m' 'omegapdb_1eby' 'omegapdb_1ec0' 'omegapdb_1exa'\n",
      " 'omegapdb_1ezf' 'omegapdb_1f06' 'omegapdb_1f8b' 'omegapdb_1fm9'\n",
      " 'omegapdb_1g2k' 'omegapdb_1g4s' 'omegapdb_1g6c' 'omegapdb_1gj6'\n",
      " 'omegapdb_1gja' 'omegapdb_1gjd' 'omegapdb_1gs5' 'omegapdb_1gse'\n",
      " 'omegapdb_1gz8' 'omegapdb_1h1p' 'omegapdb_1h1s' 'omegapdb_1h2k'\n",
      " 'omegapdb_1h6h' 'omegapdb_1hwk' 'omegapdb_1hyo' 'omegapdb_1ik4'\n",
      " 'omegapdb_1is0' 'omegapdb_1iy7' 'omegapdb_1j3f' 'omegapdb_1jsl'\n",
      " 'omegapdb_1k2t' 'omegapdb_1k2u' 'omegapdb_1koj' 'omegapdb_1kz8'\n",
      " 'omegapdb_1l7g' 'omegapdb_1lww' 'omegapdb_1m2x' 'omegapdb_1m5b'\n",
      " 'omegapdb_1m5d' 'omegapdb_1m5f' 'omegapdb_1n2b' 'omegapdb_1n3z'\n",
      " 'omegapdb_1nms' 'omegapdb_1nnk' 'omegapdb_1nqu' 'omegapdb_1nqv'\n",
      " 'omegapdb_1o2q' 'omegapdb_1o2y' 'omegapdb_1o37' 'omegapdb_1o3l'\n",
      " 'omegapdb_1o3m' 'omegapdb_1ofd' 'omegapdb_1oiu' 'omegapdb_1oks'\n",
      " 'omegapdb_1p1o' 'omegapdb_1pa9' 'omegapdb_1pck' 'omegapdb_1q72'\n",
      " 'omegapdb_1q91' 'omegapdb_1qin' 'omegapdb_1qnf' 'omegapdb_1qxw'\n",
      " 'omegapdb_1qy5' 'omegapdb_1r34' 'omegapdb_1r4p' 'omegapdb_1r6w'\n",
      " 'omegapdb_1rf6' 'omegapdb_1ros' 'omegapdb_1s63' 'omegapdb_1s8j'\n",
      " 'omegapdb_1sa4' 'omegapdb_1sn5' 'omegapdb_1syh' 'omegapdb_1t32'\n",
      " 'omegapdb_1toj' 'omegapdb_1uf5' 'omegapdb_1uf7' 'omegapdb_1uf8'\n",
      " 'omegapdb_1ur8' 'omegapdb_1urw' 'omegapdb_1utt' 'omegapdb_1uu9'\n",
      " 'omegapdb_1uwc' 'omegapdb_1uy8' 'omegapdb_1v2k' 'omegapdb_1v2n'\n",
      " 'omegapdb_1v97' 'omegapdb_1w1q' 'omegapdb_1w4l' 'omegapdb_1w5v'\n",
      " 'omegapdb_1w7x' 'omegapdb_1w9u' 'omegapdb_1wvj' 'omegapdb_1xap'\n",
      " 'omegapdb_1xge' 'omegapdb_1xn0' 'omegapdb_1xom' 'omegapdb_1xon'\n",
      " 'omegapdb_1xp0' 'omegapdb_1xqc' 'omegapdb_1y6q' 'omegapdb_1yc1'\n",
      " 'omegapdb_1yc4' 'omegapdb_1yc5' 'omegapdb_1yvx' 'omegapdb_1z1r'\n",
      " 'omegapdb_1zvx' 'omegapdb_1zz2' 'omegapdb_2aj8' 'omegapdb_2aw1'\n",
      " 'omegapdb_2ayr' 'omegapdb_2b7d' 'omegapdb_2bgd' 'omegapdb_2brc'\n",
      " 'omegapdb_2btr' 'omegapdb_2bts' 'omegapdb_2byh' 'omegapdb_2byi'\n",
      " 'omegapdb_2c4w' 'omegapdb_2cbs' 'omegapdb_2cji' 'omegapdb_2evc'\n",
      " 'omegapdb_2ewb' 'omegapdb_2f14' 'omegapdb_2f34' 'omegapdb_2f4j'\n",
      " 'omegapdb_2f6v' 'omegapdb_2f70' 'omegapdb_2f71' 'omegapdb_2f7p'\n",
      " 'omegapdb_2flb' 'omegapdb_2fm0' 'omegapdb_2fqt' 'omegapdb_2fwz'\n",
      " 'omegapdb_2fyv' 'omegapdb_2g8n' 'omegapdb_2ggd' 'omegapdb_2gss'\n",
      " 'omegapdb_2h03' 'omegapdb_2h42' 'omegapdb_2hb1' 'omegapdb_2hd6'\n",
      " 'omegapdb_2i0a' 'omegapdb_2iko' 'omegapdb_2iuz' 'omegapdb_2izl'\n",
      " 'omegapdb_2j34' 'omegapdb_2j47' 'omegapdb_2j4i' 'omegapdb_3cbs'\n",
      " 'omegapdb_6prc']\n"
     ]
    }
   ],
   "source": [
    "names = np.unique(df['name']) # all the molecule names\n",
    "print(names)"
   ]
  },
  {
   "cell_type": "code",
   "execution_count": null,
   "metadata": {},
   "outputs": [
    {
     "name": "stdout",
     "output_type": "stream",
     "text": [
      "Method A, Method B, Mean R2, Median R2, Mean Spearman, Median Spearman, Mean Absolute Energy\n",
      "dlpno, mmff, 0.4035936039692419, 0.33356051437475864, -0.37480525727278974, -0.47619047619047616\n",
      "dlpno, uff, 0.3638552590417749, 0.2903131452837173, -0.22668303317653968, -0.3212121212121212\n",
      "dlpno, gaff, 0.4017531040108588, 0.34795963082103004, -0.36136691591237047, -0.47878787878787876\n",
      "dlpno, pm7HOF, 0.3806670931475941, 0.3151445242310368, -0.24367158718271456, -0.3333333333333333\n",
      "dlpno, ani1x, 0.5443562149637176, 0.594265978925288, 0.5344598110773008, 0.6544332114760286\n",
      "dlpno, ani1cc, 0.5603996042981394, 0.6382779189530505, 0.5572277730509355, 0.713427896983352\n",
      "dlpno, ani2, 0.5477821921580106, 0.6326120254709451, 0.5483039749118511, 0.6898942699802268\n",
      "dlpno, gfn0, 0.4317987792922554, 0.40462363629073966, 0.3935262637602521, 0.5272727272727272\n"
     ]
    }
   ],
   "source": [
    "# we're going to loop through method X and method Y\n",
    "print(\"Method A, Method B, Mean R2, Median R2, Mean Spearman, Median Spearman, Mean Absolute Energy\")\n",
    "for i in range(len(methods)):\n",
    "    for j in range(i+1, len(methods)):\n",
    "        r2 = []\n",
    "        sp = []\n",
    "        \n",
    "        # now we loop through each of the unique molecules\n",
    "        with open('%s_%s_stats.csv' % (methods[i], methods[j]), 'w') as out:\n",
    "            print(\"name, len, rsq, spearman, slope, intercept\", sep=',', file=out)\n",
    "            for name in names:\n",
    "                x = df[df['name'] == name][methods[i]]\n",
    "                y = df[df['name'] == name][methods[j]]\n",
    "                # create a temporary data frame, but drop any 'nan' values\n",
    "                d = pd.DataFrame({'x': x, 'y': y})\n",
    "                d.dropna(subset=['y'], inplace = True)\n",
    "                mask = ~np.isnan(x) & ~np.isnan(y)\n",
    "                if len(y[mask]) < 3:\n",
    "                    continue # this molecule has no values (e.g., no DLPNO energies at all)\n",
    "                    \n",
    "                spearman = d.corr(method='spearman').values[0, 1]\n",
    "                slope, intercept, r_value, p_value, std_err = linregress(x[mask], y[mask])\n",
    "                rsq = r_value**2\n",
    "                \n",
    "                # calculate the relative energies\n",
    "                #minX = \n",
    "                \n",
    "                print(name, len(x), rsq, spearman, slope, intercept, sep=',', file=out)\n",
    "\n",
    "                if isfinite(rsq):\n",
    "                    r2.append(rsq)\n",
    "                if isfinite(spearman):\n",
    "                    sp.append(spearman)\n",
    "        # okay, now summarize\n",
    "        if len(r2) > 0 and len(sp) > 0:\n",
    "            print(methods[i], methods[j], mean(r2), median(r2), mean(sp), median(sp), sep=', ')\n",
    "        # instead of just getting mean(r2) or median(spearman)\n",
    "        # .. generate a histogram from the list of r2 and list of spearman\n",
    "        "
   ]
  },
  {
   "cell_type": "code",
   "execution_count": null,
   "metadata": {},
   "outputs": [],
   "source": [
    "print(len(r2), r2)"
   ]
  },
  {
   "cell_type": "code",
   "execution_count": null,
   "metadata": {
    "collapsed": true,
    "jupyter": {
     "outputs_hidden": true
    }
   },
   "outputs": [],
   "source": []
  }
 ],
 "metadata": {
  "kernelspec": {
   "display_name": "Python 3",
   "language": "python",
   "name": "python3"
  },
  "language_info": {
   "codemirror_mode": {
    "name": "ipython",
    "version": 3
   },
   "file_extension": ".py",
   "mimetype": "text/x-python",
   "name": "python",
   "nbconvert_exporter": "python",
   "pygments_lexer": "ipython3",
   "version": "3.6.7"
  }
 },
 "nbformat": 4,
 "nbformat_minor": 4
}
